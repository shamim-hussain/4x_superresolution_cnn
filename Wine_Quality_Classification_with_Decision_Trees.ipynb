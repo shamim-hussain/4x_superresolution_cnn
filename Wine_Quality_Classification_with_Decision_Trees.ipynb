{
  "nbformat": 4,
  "nbformat_minor": 0,
  "metadata": {
    "colab": {
      "name": "Wine Quality Classification with Decision Trees.ipynb",
      "provenance": [],
      "collapsed_sections": [],
      "authorship_tag": "ABX9TyN+QsB2q+5y9KnqHiqIZ/5N",
      "include_colab_link": true
    },
    "kernelspec": {
      "name": "python3",
      "display_name": "Python 3"
    },
    "language_info": {
      "name": "python"
    }
  },
  "cells": [
    {
      "cell_type": "markdown",
      "metadata": {
        "id": "view-in-github",
        "colab_type": "text"
      },
      "source": [
        "<a href=\"https://colab.research.google.com/github/shamim-hussain/4x_superresolution_cnn/blob/master/Wine_Quality_Classification_with_Decision_Trees.ipynb\" target=\"_parent\"><img src=\"https://colab.research.google.com/assets/colab-badge.svg\" alt=\"Open In Colab\"/></a>"
      ]
    },
    {
      "cell_type": "markdown",
      "metadata": {
        "id": "1HYWyvzGy5r0"
      },
      "source": [
        "# Wine Quality Classification\n",
        "We will classifiy wines into either \"good\" or \"bad\" categories based on different chemical properties. It makes sense use decision tree for this problem because quality should depend on specific ranges of the chemical properties. The dataset - \n",
        "\n",
        "Dataset Link: https://archive.ics.uci.edu/ml/datasets/wine+quality\n",
        "\n",
        "It is moderate in size, which is ideal for a decision tree classifier."
      ]
    },
    {
      "cell_type": "markdown",
      "metadata": {
        "id": "gD6FDIz5zBGI"
      },
      "source": [
        "# Download and Process the Dataset"
      ]
    },
    {
      "cell_type": "markdown",
      "metadata": {
        "id": "gq8y2j1WzITg"
      },
      "source": [
        "## Download\n",
        "We will be using the \"white wine\" dataset."
      ]
    },
    {
      "cell_type": "code",
      "metadata": {
        "id": "IG5AicFZv87m",
        "colab": {
          "base_uri": "https://localhost:8080/"
        },
        "outputId": "ad33ee5c-e6b5-41c4-f93f-bc83bcd4fd3e"
      },
      "source": [
        "!wget https://archive.ics.uci.edu/ml/machine-learning-databases/wine-quality/winequality-white.csv"
      ],
      "execution_count": 1,
      "outputs": [
        {
          "output_type": "stream",
          "name": "stdout",
          "text": [
            "--2021-09-16 23:21:26--  https://archive.ics.uci.edu/ml/machine-learning-databases/wine-quality/winequality-white.csv\n",
            "Resolving archive.ics.uci.edu (archive.ics.uci.edu)... 128.195.10.252\n",
            "Connecting to archive.ics.uci.edu (archive.ics.uci.edu)|128.195.10.252|:443... connected.\n",
            "HTTP request sent, awaiting response... 200 OK\n",
            "Length: 264426 (258K) [application/x-httpd-php]\n",
            "Saving to: ‘winequality-white.csv’\n",
            "\n",
            "winequality-white.c 100%[===================>] 258.23K   434KB/s    in 0.6s    \n",
            "\n",
            "2021-09-16 23:21:28 (434 KB/s) - ‘winequality-white.csv’ saved [264426/264426]\n",
            "\n"
          ]
        }
      ]
    },
    {
      "cell_type": "markdown",
      "metadata": {
        "id": "MnKMH6DtzjLT"
      },
      "source": [
        "## Open dataset"
      ]
    },
    {
      "cell_type": "code",
      "metadata": {
        "colab": {
          "base_uri": "https://localhost:8080/",
          "height": 204
        },
        "id": "ZyR2M3gcypfQ",
        "outputId": "93d1a01b-063b-442c-aa66-a131051de0e5"
      },
      "source": [
        "import pandas as pd\n",
        "\n",
        "dataset = pd.read_csv('winequality-white.csv', sep=';')\n",
        "dataset.head()"
      ],
      "execution_count": 2,
      "outputs": [
        {
          "output_type": "execute_result",
          "data": {
            "text/html": [
              "<div>\n",
              "<style scoped>\n",
              "    .dataframe tbody tr th:only-of-type {\n",
              "        vertical-align: middle;\n",
              "    }\n",
              "\n",
              "    .dataframe tbody tr th {\n",
              "        vertical-align: top;\n",
              "    }\n",
              "\n",
              "    .dataframe thead th {\n",
              "        text-align: right;\n",
              "    }\n",
              "</style>\n",
              "<table border=\"1\" class=\"dataframe\">\n",
              "  <thead>\n",
              "    <tr style=\"text-align: right;\">\n",
              "      <th></th>\n",
              "      <th>fixed acidity</th>\n",
              "      <th>volatile acidity</th>\n",
              "      <th>citric acid</th>\n",
              "      <th>residual sugar</th>\n",
              "      <th>chlorides</th>\n",
              "      <th>free sulfur dioxide</th>\n",
              "      <th>total sulfur dioxide</th>\n",
              "      <th>density</th>\n",
              "      <th>pH</th>\n",
              "      <th>sulphates</th>\n",
              "      <th>alcohol</th>\n",
              "      <th>quality</th>\n",
              "    </tr>\n",
              "  </thead>\n",
              "  <tbody>\n",
              "    <tr>\n",
              "      <th>0</th>\n",
              "      <td>7.0</td>\n",
              "      <td>0.27</td>\n",
              "      <td>0.36</td>\n",
              "      <td>20.7</td>\n",
              "      <td>0.045</td>\n",
              "      <td>45.0</td>\n",
              "      <td>170.0</td>\n",
              "      <td>1.0010</td>\n",
              "      <td>3.00</td>\n",
              "      <td>0.45</td>\n",
              "      <td>8.8</td>\n",
              "      <td>6</td>\n",
              "    </tr>\n",
              "    <tr>\n",
              "      <th>1</th>\n",
              "      <td>6.3</td>\n",
              "      <td>0.30</td>\n",
              "      <td>0.34</td>\n",
              "      <td>1.6</td>\n",
              "      <td>0.049</td>\n",
              "      <td>14.0</td>\n",
              "      <td>132.0</td>\n",
              "      <td>0.9940</td>\n",
              "      <td>3.30</td>\n",
              "      <td>0.49</td>\n",
              "      <td>9.5</td>\n",
              "      <td>6</td>\n",
              "    </tr>\n",
              "    <tr>\n",
              "      <th>2</th>\n",
              "      <td>8.1</td>\n",
              "      <td>0.28</td>\n",
              "      <td>0.40</td>\n",
              "      <td>6.9</td>\n",
              "      <td>0.050</td>\n",
              "      <td>30.0</td>\n",
              "      <td>97.0</td>\n",
              "      <td>0.9951</td>\n",
              "      <td>3.26</td>\n",
              "      <td>0.44</td>\n",
              "      <td>10.1</td>\n",
              "      <td>6</td>\n",
              "    </tr>\n",
              "    <tr>\n",
              "      <th>3</th>\n",
              "      <td>7.2</td>\n",
              "      <td>0.23</td>\n",
              "      <td>0.32</td>\n",
              "      <td>8.5</td>\n",
              "      <td>0.058</td>\n",
              "      <td>47.0</td>\n",
              "      <td>186.0</td>\n",
              "      <td>0.9956</td>\n",
              "      <td>3.19</td>\n",
              "      <td>0.40</td>\n",
              "      <td>9.9</td>\n",
              "      <td>6</td>\n",
              "    </tr>\n",
              "    <tr>\n",
              "      <th>4</th>\n",
              "      <td>7.2</td>\n",
              "      <td>0.23</td>\n",
              "      <td>0.32</td>\n",
              "      <td>8.5</td>\n",
              "      <td>0.058</td>\n",
              "      <td>47.0</td>\n",
              "      <td>186.0</td>\n",
              "      <td>0.9956</td>\n",
              "      <td>3.19</td>\n",
              "      <td>0.40</td>\n",
              "      <td>9.9</td>\n",
              "      <td>6</td>\n",
              "    </tr>\n",
              "  </tbody>\n",
              "</table>\n",
              "</div>"
            ],
            "text/plain": [
              "   fixed acidity  volatile acidity  citric acid  ...  sulphates  alcohol  quality\n",
              "0            7.0              0.27         0.36  ...       0.45      8.8        6\n",
              "1            6.3              0.30         0.34  ...       0.49      9.5        6\n",
              "2            8.1              0.28         0.40  ...       0.44     10.1        6\n",
              "3            7.2              0.23         0.32  ...       0.40      9.9        6\n",
              "4            7.2              0.23         0.32  ...       0.40      9.9        6\n",
              "\n",
              "[5 rows x 12 columns]"
            ]
          },
          "metadata": {},
          "execution_count": 2
        }
      ]
    },
    {
      "cell_type": "markdown",
      "metadata": {
        "id": "bwQmW1m024so"
      },
      "source": [
        "Let's check for missing data."
      ]
    },
    {
      "cell_type": "code",
      "metadata": {
        "colab": {
          "base_uri": "https://localhost:8080/"
        },
        "id": "EdpWE5so2q0Z",
        "outputId": "ac664667-d3a3-47b2-cf20-cf87eabbce22"
      },
      "source": [
        "dataset.info()"
      ],
      "execution_count": 3,
      "outputs": [
        {
          "output_type": "stream",
          "name": "stdout",
          "text": [
            "<class 'pandas.core.frame.DataFrame'>\n",
            "RangeIndex: 4898 entries, 0 to 4897\n",
            "Data columns (total 12 columns):\n",
            " #   Column                Non-Null Count  Dtype  \n",
            "---  ------                --------------  -----  \n",
            " 0   fixed acidity         4898 non-null   float64\n",
            " 1   volatile acidity      4898 non-null   float64\n",
            " 2   citric acid           4898 non-null   float64\n",
            " 3   residual sugar        4898 non-null   float64\n",
            " 4   chlorides             4898 non-null   float64\n",
            " 5   free sulfur dioxide   4898 non-null   float64\n",
            " 6   total sulfur dioxide  4898 non-null   float64\n",
            " 7   density               4898 non-null   float64\n",
            " 8   pH                    4898 non-null   float64\n",
            " 9   sulphates             4898 non-null   float64\n",
            " 10  alcohol               4898 non-null   float64\n",
            " 11  quality               4898 non-null   int64  \n",
            "dtypes: float64(11), int64(1)\n",
            "memory usage: 459.3 KB\n"
          ]
        }
      ]
    },
    {
      "cell_type": "markdown",
      "metadata": {
        "id": "LVMzalBv2hyk"
      },
      "source": [
        "No missing data. We also wanna know the min, max, std of the columns"
      ]
    },
    {
      "cell_type": "code",
      "metadata": {
        "colab": {
          "base_uri": "https://localhost:8080/",
          "height": 297
        },
        "id": "iSx2_t7a3OPk",
        "outputId": "1a2047aa-297b-44ab-914e-1061723fc214"
      },
      "source": [
        "dataset.describe()"
      ],
      "execution_count": 4,
      "outputs": [
        {
          "output_type": "execute_result",
          "data": {
            "text/html": [
              "<div>\n",
              "<style scoped>\n",
              "    .dataframe tbody tr th:only-of-type {\n",
              "        vertical-align: middle;\n",
              "    }\n",
              "\n",
              "    .dataframe tbody tr th {\n",
              "        vertical-align: top;\n",
              "    }\n",
              "\n",
              "    .dataframe thead th {\n",
              "        text-align: right;\n",
              "    }\n",
              "</style>\n",
              "<table border=\"1\" class=\"dataframe\">\n",
              "  <thead>\n",
              "    <tr style=\"text-align: right;\">\n",
              "      <th></th>\n",
              "      <th>fixed acidity</th>\n",
              "      <th>volatile acidity</th>\n",
              "      <th>citric acid</th>\n",
              "      <th>residual sugar</th>\n",
              "      <th>chlorides</th>\n",
              "      <th>free sulfur dioxide</th>\n",
              "      <th>total sulfur dioxide</th>\n",
              "      <th>density</th>\n",
              "      <th>pH</th>\n",
              "      <th>sulphates</th>\n",
              "      <th>alcohol</th>\n",
              "      <th>quality</th>\n",
              "    </tr>\n",
              "  </thead>\n",
              "  <tbody>\n",
              "    <tr>\n",
              "      <th>count</th>\n",
              "      <td>4898.000000</td>\n",
              "      <td>4898.000000</td>\n",
              "      <td>4898.000000</td>\n",
              "      <td>4898.000000</td>\n",
              "      <td>4898.000000</td>\n",
              "      <td>4898.000000</td>\n",
              "      <td>4898.000000</td>\n",
              "      <td>4898.000000</td>\n",
              "      <td>4898.000000</td>\n",
              "      <td>4898.000000</td>\n",
              "      <td>4898.000000</td>\n",
              "      <td>4898.000000</td>\n",
              "    </tr>\n",
              "    <tr>\n",
              "      <th>mean</th>\n",
              "      <td>6.854788</td>\n",
              "      <td>0.278241</td>\n",
              "      <td>0.334192</td>\n",
              "      <td>6.391415</td>\n",
              "      <td>0.045772</td>\n",
              "      <td>35.308085</td>\n",
              "      <td>138.360657</td>\n",
              "      <td>0.994027</td>\n",
              "      <td>3.188267</td>\n",
              "      <td>0.489847</td>\n",
              "      <td>10.514267</td>\n",
              "      <td>5.877909</td>\n",
              "    </tr>\n",
              "    <tr>\n",
              "      <th>std</th>\n",
              "      <td>0.843868</td>\n",
              "      <td>0.100795</td>\n",
              "      <td>0.121020</td>\n",
              "      <td>5.072058</td>\n",
              "      <td>0.021848</td>\n",
              "      <td>17.007137</td>\n",
              "      <td>42.498065</td>\n",
              "      <td>0.002991</td>\n",
              "      <td>0.151001</td>\n",
              "      <td>0.114126</td>\n",
              "      <td>1.230621</td>\n",
              "      <td>0.885639</td>\n",
              "    </tr>\n",
              "    <tr>\n",
              "      <th>min</th>\n",
              "      <td>3.800000</td>\n",
              "      <td>0.080000</td>\n",
              "      <td>0.000000</td>\n",
              "      <td>0.600000</td>\n",
              "      <td>0.009000</td>\n",
              "      <td>2.000000</td>\n",
              "      <td>9.000000</td>\n",
              "      <td>0.987110</td>\n",
              "      <td>2.720000</td>\n",
              "      <td>0.220000</td>\n",
              "      <td>8.000000</td>\n",
              "      <td>3.000000</td>\n",
              "    </tr>\n",
              "    <tr>\n",
              "      <th>25%</th>\n",
              "      <td>6.300000</td>\n",
              "      <td>0.210000</td>\n",
              "      <td>0.270000</td>\n",
              "      <td>1.700000</td>\n",
              "      <td>0.036000</td>\n",
              "      <td>23.000000</td>\n",
              "      <td>108.000000</td>\n",
              "      <td>0.991723</td>\n",
              "      <td>3.090000</td>\n",
              "      <td>0.410000</td>\n",
              "      <td>9.500000</td>\n",
              "      <td>5.000000</td>\n",
              "    </tr>\n",
              "    <tr>\n",
              "      <th>50%</th>\n",
              "      <td>6.800000</td>\n",
              "      <td>0.260000</td>\n",
              "      <td>0.320000</td>\n",
              "      <td>5.200000</td>\n",
              "      <td>0.043000</td>\n",
              "      <td>34.000000</td>\n",
              "      <td>134.000000</td>\n",
              "      <td>0.993740</td>\n",
              "      <td>3.180000</td>\n",
              "      <td>0.470000</td>\n",
              "      <td>10.400000</td>\n",
              "      <td>6.000000</td>\n",
              "    </tr>\n",
              "    <tr>\n",
              "      <th>75%</th>\n",
              "      <td>7.300000</td>\n",
              "      <td>0.320000</td>\n",
              "      <td>0.390000</td>\n",
              "      <td>9.900000</td>\n",
              "      <td>0.050000</td>\n",
              "      <td>46.000000</td>\n",
              "      <td>167.000000</td>\n",
              "      <td>0.996100</td>\n",
              "      <td>3.280000</td>\n",
              "      <td>0.550000</td>\n",
              "      <td>11.400000</td>\n",
              "      <td>6.000000</td>\n",
              "    </tr>\n",
              "    <tr>\n",
              "      <th>max</th>\n",
              "      <td>14.200000</td>\n",
              "      <td>1.100000</td>\n",
              "      <td>1.660000</td>\n",
              "      <td>65.800000</td>\n",
              "      <td>0.346000</td>\n",
              "      <td>289.000000</td>\n",
              "      <td>440.000000</td>\n",
              "      <td>1.038980</td>\n",
              "      <td>3.820000</td>\n",
              "      <td>1.080000</td>\n",
              "      <td>14.200000</td>\n",
              "      <td>9.000000</td>\n",
              "    </tr>\n",
              "  </tbody>\n",
              "</table>\n",
              "</div>"
            ],
            "text/plain": [
              "       fixed acidity  volatile acidity  ...      alcohol      quality\n",
              "count    4898.000000       4898.000000  ...  4898.000000  4898.000000\n",
              "mean        6.854788          0.278241  ...    10.514267     5.877909\n",
              "std         0.843868          0.100795  ...     1.230621     0.885639\n",
              "min         3.800000          0.080000  ...     8.000000     3.000000\n",
              "25%         6.300000          0.210000  ...     9.500000     5.000000\n",
              "50%         6.800000          0.260000  ...    10.400000     6.000000\n",
              "75%         7.300000          0.320000  ...    11.400000     6.000000\n",
              "max        14.200000          1.100000  ...    14.200000     9.000000\n",
              "\n",
              "[8 rows x 12 columns]"
            ]
          },
          "metadata": {},
          "execution_count": 4
        }
      ]
    },
    {
      "cell_type": "markdown",
      "metadata": {
        "id": "EeccF1b25wTI"
      },
      "source": [
        "## Splitting the dataset into train and test."
      ]
    },
    {
      "cell_type": "markdown",
      "metadata": {
        "id": "aB4C7Rer7Kz0"
      },
      "source": [
        "We will do a 80/20 split for train and test"
      ]
    },
    {
      "cell_type": "code",
      "metadata": {
        "id": "W-t5ti8K5vkv"
      },
      "source": [
        "# Shuffle the dataset\n",
        "dataset = dataset.sample(frac=1, random_state=101).reset_index(drop=True)\n",
        "\n",
        "trainset_len = int(len(dataset)*.8)\n",
        "trainset = dataset.iloc[:trainset_len].reset_index(drop=True)\n",
        "testset = dataset.iloc[trainset_len:].reset_index(drop=True)"
      ],
      "execution_count": 5,
      "outputs": []
    },
    {
      "cell_type": "markdown",
      "metadata": {
        "id": "Jl2wlzI31zF0"
      },
      "source": [
        "## Separate features and target and binarize target\n",
        "We will predict the quality, but since we wish to explore a binary classification problem. The 50-percentile is 6 so we will assign qualities as such -\n",
        "\n",
        "**Bad:0** -> When quality between 0-5\n",
        "\n",
        "**Good:1** -> When quality between 6-9\n",
        "\n",
        "Also convert everything to float while at it."
      ]
    },
    {
      "cell_type": "code",
      "metadata": {
        "id": "-DF_Fdg80TkE"
      },
      "source": [
        "train_features = trainset.drop('quality', axis=1).astype(float)\n",
        "train_targets = (trainset['quality'] > 5).astype(int)\n",
        "\n",
        "test_features = testset.drop('quality', axis=1).astype(float)\n",
        "test_targets = (testset['quality'] > 5).astype(int)\n",
        "\n",
        "X_train = train_features.values\n",
        "Y_train = train_targets.values\n",
        "\n",
        "X_test = test_features.values\n",
        "Y_test = test_targets.values"
      ],
      "execution_count": 11,
      "outputs": []
    },
    {
      "cell_type": "markdown",
      "metadata": {
        "id": "ENli_W12-Obe"
      },
      "source": [
        "# Decision Tree Classifier"
      ]
    },
    {
      "cell_type": "markdown",
      "metadata": {
        "id": "A_YanJphADnE"
      },
      "source": [
        "## Train-Validation Split"
      ]
    },
    {
      "cell_type": "markdown",
      "metadata": {
        "id": "v303F6UNAp0C"
      },
      "source": [
        "Let us first demonstrate our results on a single fold of 9-1 train, validation split. At this stage, we are not trying to regularize the model."
      ]
    },
    {
      "cell_type": "code",
      "metadata": {
        "colab": {
          "base_uri": "https://localhost:8080/"
        },
        "id": "CxcbhSNyA80p",
        "outputId": "60612c0b-6ff5-4cb2-a4be-2d0f77d4d5a9"
      },
      "source": [
        "from sklearn.model_selection import train_test_split\n",
        "Xt, Xv, Yt, Yv = train_test_split(X_train, Y_train, random_state=101, test_size=0.1, stratify=Y_train)\n",
        "\n",
        "from sklearn.tree import DecisionTreeClassifier\n",
        "\n",
        "model = DecisionTreeClassifier(criterion='gini', random_state=102)\n",
        "model.fit(Xt, Yt)\n",
        "\n",
        "train_acc = model.score(Xt, Yt)\n",
        "val_acc = model.score(Xv, Yv)\n",
        "\n",
        "print(f'Unregularized model raining accuracy = {train_acc:.3%}')\n",
        "print(f'Unregularized model validation accuracy = {val_acc:.3%}')"
      ],
      "execution_count": 107,
      "outputs": [
        {
          "output_type": "stream",
          "name": "stdout",
          "text": [
            "Unregularized model raining accuracy = 100.000%\n",
            "Unregularized model validation accuracy = 79.592%\n"
          ]
        }
      ]
    },
    {
      "cell_type": "markdown",
      "metadata": {
        "id": "4evjqfpjHYFM"
      },
      "source": [
        "## Cross-validation"
      ]
    },
    {
      "cell_type": "code",
      "metadata": {
        "colab": {
          "base_uri": "https://localhost:8080/"
        },
        "id": "2rajogYRHYFR",
        "outputId": "d2da690f-2299-4a17-e5b5-96a9d9fce7f1"
      },
      "source": [
        "from sklearn.model_selection import cross_val_score\n",
        "from sklearn.model_selection import RepeatedStratifiedKFold\n",
        "\n",
        "cv = RepeatedStratifiedKFold(n_splits=10, n_repeats=3, random_state=109)\n",
        "\n",
        "# Unregularized\n",
        "model_unreg = DecisionTreeClassifier(criterion='gini', random_state=109)\n",
        "\n",
        "cv_unreg = cross_val_score(model_unreg, X_train, Y_train, scoring='accuracy', cv=cv)\n",
        "\n",
        "print(f'Unregularized model CV results: mean={cv_unreg.mean():0.3%}; std={cv_unreg.std():0.3%}')"
      ],
      "execution_count": 108,
      "outputs": [
        {
          "output_type": "stream",
          "name": "stdout",
          "text": [
            "Unregularized model CV results: mean=77.651%; std=2.155%\n"
          ]
        }
      ]
    },
    {
      "cell_type": "markdown",
      "metadata": {
        "id": "qYuiS9XICcGC"
      },
      "source": [
        "## Regularization"
      ]
    },
    {
      "cell_type": "markdown",
      "metadata": {
        "id": "Ns-HvdRsBGVp"
      },
      "source": [
        "### Max features\n",
        "The unregularized decision tree is overfitting. Let us try to limit the number of features used for splitting."
      ]
    },
    {
      "cell_type": "code",
      "metadata": {
        "id": "Y08kt4FhACEe",
        "colab": {
          "base_uri": "https://localhost:8080/",
          "height": 281
        },
        "outputId": "49a0c8d1-73ff-43aa-be8f-bcb306ec4f16"
      },
      "source": [
        "import numpy as np\n",
        "from sklearn.model_selection import cross_val_score\n",
        "from sklearn.model_selection import RepeatedStratifiedKFold\n",
        "import matplotlib.pyplot as plt\n",
        "\n",
        "\n",
        "cv = RepeatedStratifiedKFold(n_splits=10, n_repeats=3, random_state=109)\n",
        "\n",
        "cv_means = []\n",
        "max_feats = np.arange(1,X_train.shape[-1]+1).astype(int)\n",
        "for nf in max_feats:\n",
        "    model_reg = DecisionTreeClassifier(criterion='gini', max_features=nf, random_state=109)\n",
        "    cv_reg = cross_val_score(model_reg, X_train, Y_train, scoring='accuracy', cv=cv)\n",
        "    cv_means.append(cv_reg.mean())\n",
        "\n",
        "cv_means = np.array(cv_means)\n",
        "plt.plot(max_feats, cv_means*100)\n",
        "plt.xlabel('Max. Features')\n",
        "plt.ylabel('Mean CV Accuracy (%)')\n",
        "plt.grid()"
      ],
      "execution_count": 85,
      "outputs": [
        {
          "output_type": "display_data",
          "data": {
            "image/png": "[encoded data removed]",
            "text/plain": [
              "<Figure size 432x288 with 1 Axes>"
            ]
          },
          "metadata": {
            "needs_background": "light"
          }
        }
      ]
    },
    {
      "cell_type": "code",
      "metadata": {
        "colab": {
          "base_uri": "https://localhost:8080/"
        },
        "id": "zgCnKAQHKamF",
        "outputId": "e50f7c2b-12c0-418d-ace8-65def9a5692a"
      },
      "source": [
        "from sklearn.model_selection import cross_val_score\n",
        "from sklearn.model_selection import RepeatedStratifiedKFold\n",
        "\n",
        "cv = RepeatedStratifiedKFold(n_splits=10, n_repeats=3, random_state=109)\n",
        "\n",
        "model_reg = DecisionTreeClassifier(criterion='gini', max_features=7, random_state=109)\n",
        "\n",
        "cv_reg = cross_val_score(model_reg, X_train, Y_train, scoring='accuracy', cv=cv)\n",
        "\n",
        "print(f'Regularized model CV results: mean={cv_reg.mean():0.3%}; std={cv_reg.std():0.3%}')"
      ],
      "execution_count": 87,
      "outputs": [
        {
          "output_type": "stream",
          "name": "stdout",
          "text": [
            "Regularized model CV results: mean=77.872%; std=2.015%\n"
          ]
        }
      ]
    },
    {
      "cell_type": "markdown",
      "metadata": {
        "id": "Z4-3iiHfBz0y"
      },
      "source": [
        "That seemed to improve the validation accuracy a bit."
      ]
    },
    {
      "cell_type": "markdown",
      "metadata": {
        "id": "aJkvrkxYNtG9"
      },
      "source": [
        "### Minimum Impurity\n",
        "Now, let us try to limit the minimum decrease in impurity to better regulate the splitting of the tree."
      ]
    },
    {
      "cell_type": "code",
      "metadata": {
        "colab": {
          "base_uri": "https://localhost:8080/",
          "height": 279
        },
        "id": "WQOA8dPV-zui",
        "outputId": "fb8bdebf-b033-46a4-c335-4d23d9187a62"
      },
      "source": [
        "import numpy as np\n",
        "from sklearn.model_selection import cross_val_score\n",
        "from sklearn.model_selection import RepeatedStratifiedKFold\n",
        "import matplotlib.pyplot as plt\n",
        "\n",
        "\n",
        "cv = RepeatedStratifiedKFold(n_splits=10, n_repeats=3, random_state=109)\n",
        "\n",
        "cv_means = []\n",
        "min_imps = np.linspace(1.5e-4, 5e-5, 11)\n",
        "for mi in min_imps:\n",
        "    model_reg = DecisionTreeClassifier(criterion='gini', max_features=7, min_impurity_decrease=mi, random_state=109)\n",
        "    cv_reg = cross_val_score(model_reg, X_train, Y_train, scoring='accuracy', cv=cv)\n",
        "    cv_means.append(cv_reg.mean())\n",
        "\n",
        "cv_means = np.array(cv_means)\n",
        "plt.plot(min_imps, cv_means*100)\n",
        "plt.xlabel('Minimum impurity decrease')\n",
        "plt.ylabel('Mean CV Accuracy (%)')\n",
        "plt.grid()"
      ],
      "execution_count": 89,
      "outputs": [
        {
          "output_type": "display_data",
          "data": {
            "image/png": "[encoded data removed]",
            "text/plain": [
              "<Figure size 432x288 with 1 Axes>"
            ]
          },
          "metadata": {
            "needs_background": "light"
          }
        }
      ]
    },
    {
      "cell_type": "code",
      "metadata": {
        "colab": {
          "base_uri": "https://localhost:8080/"
        },
        "id": "F5u5eWoZNajL",
        "outputId": "d6184b53-f302-498c-a6fe-562a5c1e31e0"
      },
      "source": [
        "from sklearn.model_selection import cross_val_score\n",
        "from sklearn.model_selection import RepeatedStratifiedKFold\n",
        "\n",
        "cv = RepeatedStratifiedKFold(n_splits=10, n_repeats=3, random_state=109)\n",
        "\n",
        "model_reg = DecisionTreeClassifier(criterion='gini', max_features=7, min_impurity_decrease=0.00012, random_state=109)\n",
        "\n",
        "cv_reg = cross_val_score(model_reg, X_train, Y_train, scoring='accuracy', cv=cv)\n",
        "\n",
        "print(f'Regularized model CV results: mean={cv_reg.mean():0.3%}; std={cv_reg.std():0.3%}')"
      ],
      "execution_count": 92,
      "outputs": [
        {
          "output_type": "stream",
          "name": "stdout",
          "text": [
            "Regularized model CV results: mean=78.433%; std=1.587%\n"
          ]
        }
      ]
    },
    {
      "cell_type": "markdown",
      "metadata": {
        "id": "dIGrRAJUCLpa"
      },
      "source": [
        "That seemed to further improve the validation result a bit."
      ]
    },
    {
      "cell_type": "markdown",
      "metadata": {
        "id": "Rf2VNdNlO8X7"
      },
      "source": [
        "## Final testing"
      ]
    },
    {
      "cell_type": "code",
      "metadata": {
        "colab": {
          "base_uri": "https://localhost:8080/"
        },
        "id": "4URHRtZ2O_w7",
        "outputId": "5b04881a-c0de-45f7-8653-a3599a7fc823"
      },
      "source": [
        "model_unreg = DecisionTreeClassifier(criterion='gini', random_state=109)\n",
        "model_unreg.fit(X_train, Y_train)\n",
        "\n",
        "test_accuracy_unreg = model_unreg.score(X_test, Y_test)\n",
        "print(f'Unegularized model test accuracy = {test_accuracy_unreg:0.3%}')\n",
        "\n",
        "model_reg = DecisionTreeClassifier(criterion='gini', max_features=7, min_impurity_decrease=0.00012, random_state=109)\n",
        "model_reg.fit(X_train, Y_train)\n",
        "\n",
        "test_accuracy_reg = model_reg.score(X_test, Y_test)\n",
        "print(f'Regularized model test accuracy = {test_accuracy_reg:0.3%}')"
      ],
      "execution_count": 95,
      "outputs": [
        {
          "output_type": "stream",
          "name": "stdout",
          "text": [
            "Unegularized model test accuracy = 77.041%\n",
            "Regularized model test accuracy = 79.796%\n"
          ]
        }
      ]
    },
    {
      "cell_type": "markdown",
      "metadata": {
        "id": "fj4OQZzVOJ1j"
      },
      "source": [
        "# Bagging and Boosting"
      ]
    },
    {
      "cell_type": "markdown",
      "metadata": {
        "id": "1RdlBDdXUTJ8"
      },
      "source": [
        "## Bagging"
      ]
    },
    {
      "cell_type": "markdown",
      "metadata": {
        "id": "8Hy3JIrgOVSr"
      },
      "source": [
        "The decision trees seem to have high variance, i.e., high capacity. Let us try to use bagging to get better results."
      ]
    },
    {
      "cell_type": "code",
      "metadata": {
        "colab": {
          "base_uri": "https://localhost:8080/"
        },
        "id": "f-fEr1KxOUUb",
        "outputId": "0a252861-359c-474a-dc0d-42b9688758d5"
      },
      "source": [
        "from sklearn.model_selection import cross_val_score\n",
        "from sklearn.model_selection import RepeatedStratifiedKFold\n",
        "from sklearn.ensemble import BaggingClassifier\n",
        "\n",
        "cv = RepeatedStratifiedKFold(n_splits=10, n_repeats=3, random_state=109)\n",
        "\n",
        "model_reg = DecisionTreeClassifier(criterion='gini', max_features=7, min_impurity_decrease=0.00012, random_state=109)\n",
        "\n",
        "cv_reg = cross_val_score(model_reg, X_train, Y_train, scoring='accuracy', cv=cv)\n",
        "print(f'CV results for base model: mean={cv_reg.mean():0.3%}; std={cv_reg.std():0.3%}')\n",
        "\n",
        "for num_models in range(10,51,10):\n",
        "    model_reg_bagged = BaggingClassifier(model_reg, n_estimators=num_models, random_state=200)\n",
        "\n",
        "    cv_reg_bagged = cross_val_score(model_reg_bagged, X_train, Y_train, scoring='accuracy', cv=cv)\n",
        "\n",
        "    print(f'CV results for {num_models} bagged models: mean={cv_reg_bagged.mean():0.3%}; std={cv_reg_bagged.std():0.3%}')"
      ],
      "execution_count": 100,
      "outputs": [
        {
          "output_type": "stream",
          "name": "stdout",
          "text": [
            "CV results for base model: mean=78.433%; std=1.587%\n",
            "CV results for 10 bagged models: mean=81.113%; std=1.722%\n",
            "CV results for 20 bagged models: mean=82.177%; std=1.787%\n",
            "CV results for 30 bagged models: mean=82.492%; std=1.573%\n",
            "CV results for 40 bagged models: mean=82.670%; std=1.766%\n",
            "CV results for 50 bagged models: mean=82.670%; std=2.016%\n"
          ]
        }
      ]
    },
    {
      "cell_type": "markdown",
      "metadata": {
        "id": "p2jePs5GU6n8"
      },
      "source": [
        "We see that after bagging 40 decision trees, performance gains become negligible."
      ]
    },
    {
      "cell_type": "markdown",
      "metadata": {
        "id": "p9eJkKemXZbE"
      },
      "source": [
        "### Final testing"
      ]
    },
    {
      "cell_type": "code",
      "metadata": {
        "colab": {
          "base_uri": "https://localhost:8080/"
        },
        "id": "To4OR7nlVEHR",
        "outputId": "515c35b2-6525-4f8a-ec22-83ee1dd9209f"
      },
      "source": [
        "model_reg = DecisionTreeClassifier(criterion='gini', max_features=7, min_impurity_decrease=0.00012, random_state=109)\n",
        "model_reg.fit(X_train, Y_train)\n",
        "\n",
        "test_accuracy_reg = model_reg.score(X_test, Y_test)\n",
        "print(f'Base model test accuracy = {test_accuracy_reg:0.3%}')\n",
        "\n",
        "model_reg_bagged = BaggingClassifier(model_reg, n_estimators=40, random_state=200)\n",
        "model_reg_bagged.fit(X_train, Y_train)\n",
        "\n",
        "test_accuracy_reg_bagged = model_reg_bagged.score(X_test, Y_test)\n",
        "print(f'Bagged model test accuracy = {test_accuracy_reg_bagged:0.3%}')"
      ],
      "execution_count": 103,
      "outputs": [
        {
          "output_type": "stream",
          "name": "stdout",
          "text": [
            "Base model test accuracy = 79.796%\n",
            "Bagged model test accuracy = 83.061%\n"
          ]
        }
      ]
    }
  ]
}